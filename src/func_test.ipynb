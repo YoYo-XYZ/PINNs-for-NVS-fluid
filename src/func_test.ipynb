{
 "cells": [
  {
   "cell_type": "code",
   "execution_count": 1,
   "id": "d0bd02cf",
   "metadata": {},
   "outputs": [],
   "source": [
    "from Network import PINN\n",
    "from Physics import *\n",
    "from Physics import NVS"
   ]
  },
  {
   "cell_type": "code",
   "execution_count": 2,
   "id": "ab776b5b",
   "metadata": {},
   "outputs": [],
   "source": [
    "model0 = PINN(width=20, length = 8, is_steady=True)"
   ]
  },
  {
   "cell_type": "markdown",
   "id": "c1183a7b",
   "metadata": {},
   "source": [
    "## Define Physics"
   ]
  },
  {
   "cell_type": "markdown",
   "id": "f17e4e84",
   "metadata": {},
   "source": [
    "example of 1 iteration"
   ]
  },
  {
   "cell_type": "code",
   "execution_count": 3,
   "id": "d5872952",
   "metadata": {},
   "outputs": [],
   "source": [
    "nonslip_x_above = Conditions.nonslip_x(range_x=[0,1], y=1, range_t=None, num_points=10)\n",
    "nonslip_x_below = Conditions.define_conditions(range_x=[0,1], range_y=0, range_t=None, num_points=10, target_quantity_dict = {'u':0.0, 'v':0.0, 'p_x': 0.0})\n",
    "inlet = Conditions.inlet_y_uniform(x=0, range_y=[0,1], range_t=None, num_points=10, u_value=5.0)\n",
    "outlet = Conditions.outlet_y(x=1, range_y=[0,1], range_t=None, num_points=10, pressure_value=0.0)"
   ]
  },
  {
   "cell_type": "code",
   "execution_count": 4,
   "id": "8e24dbd4",
   "metadata": {},
   "outputs": [
    {
     "name": "stdout",
     "output_type": "stream",
     "text": [
      "tensor(8.0730, grad_fn=<AddBackward0>)\n"
     ]
    }
   ],
   "source": [
    "bc_loss = Conditions.loss_calc([inlet], model0)\n",
    "print(bc_loss)"
   ]
  },
  {
   "cell_type": "code",
   "execution_count": 5,
   "id": "e6a6162a",
   "metadata": {},
   "outputs": [
    {
     "name": "stdout",
     "output_type": "stream",
     "text": [
      "tensor(9.9605e-07, grad_fn=<MeanBackward0>)\n"
     ]
    }
   ],
   "source": [
    "pde_loss = NVS.loss_cal(model=model0, range_x=[0,1], range_y=[0,1], num_points=1000)\n",
    "print(pde_loss)"
   ]
  },
  {
   "cell_type": "code",
   "execution_count": 4,
   "id": "44b2359b",
   "metadata": {},
   "outputs": [
    {
     "data": {
      "text/plain": [
       "tensor([0.1014, 0.9477, 0.5081, 0.7917, 0.1546, 0.6510, 0.1556, 0.6977, 0.1370,\n",
       "        0.3171, 0.2542, 0.0456, 0.0564, 0.4336, 0.7402, 0.5924, 0.0526, 0.5735,\n",
       "        0.8615, 0.1545, 0.0585, 0.2663, 0.7631, 0.1955, 0.1599, 0.7475, 0.4489,\n",
       "        0.2532, 0.9926, 0.0700, 0.3307, 0.4805, 0.7247, 0.6733, 0.6948, 0.4094,\n",
       "        0.0099, 0.3830, 0.9427, 0.0157, 0.4664, 0.7882, 0.6523, 0.2972, 0.9634,\n",
       "        0.6409, 0.1705, 0.5554, 0.8220, 0.5620, 0.4384, 0.6763, 0.6243, 0.4770,\n",
       "        0.8288, 0.8223, 0.5611, 0.7655, 0.6002, 0.6168, 0.2746, 0.1957, 0.0814,\n",
       "        0.2992, 0.1345, 0.4871, 0.5775, 0.3829, 0.0940, 0.8340, 0.2721, 0.9225,\n",
       "        0.4069, 0.6004, 0.3391, 0.9547, 0.6326, 0.2691, 0.7500, 0.3603, 0.6113,\n",
       "        0.0388, 0.3391, 0.2905, 0.2802, 0.6907, 0.7168, 0.8637, 0.5891, 0.6851,\n",
       "        0.3430, 0.7127, 0.5450, 0.8119, 0.1453, 0.2222, 0.6589, 0.9623, 0.2796,\n",
       "        0.9352])"
      ]
     },
     "execution_count": 4,
     "metadata": {},
     "output_type": "execute_result"
    }
   ],
   "source": [
    "import torch\n",
    "\n",
    "n_points = 100\n",
    "range_x = [0, 2]\n",
    "range_y = [0, 1]\n",
    "\n",
    "points = torch.empty(n_points, 2)\n",
    "points[:, 0].uniform_(range_x[0] + 1e-6, range_x[1] - 1e-6)  # x values\n",
    "points[:, 1].uniform_(range_y[0] + 1e-6, range_y[1] - 1e-6)  # y values"
   ]
  }
 ],
 "metadata": {
  "kernelspec": {
   "display_name": "Python 3",
   "language": "python",
   "name": "python3"
  },
  "language_info": {
   "codemirror_mode": {
    "name": "ipython",
    "version": 3
   },
   "file_extension": ".py",
   "mimetype": "text/x-python",
   "name": "python",
   "nbconvert_exporter": "python",
   "pygments_lexer": "ipython3",
   "version": "3.11.9"
  }
 },
 "nbformat": 4,
 "nbformat_minor": 5
}
