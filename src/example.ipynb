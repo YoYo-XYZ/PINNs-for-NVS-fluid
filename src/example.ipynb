{
 "cells": [
  {
   "cell_type": "code",
   "execution_count": 55,
   "id": "d0bd02cf",
   "metadata": {},
   "outputs": [],
   "source": [
    "from Network import PINN\n",
    "from Physics import *"
   ]
  },
  {
   "cell_type": "code",
   "execution_count": 56,
   "id": "ab776b5b",
   "metadata": {},
   "outputs": [],
   "source": [
    "model0 = PINN(width=20, length = 8, is_steady=True)"
   ]
  },
  {
   "cell_type": "markdown",
   "id": "c1183a7b",
   "metadata": {},
   "source": [
    "## Define Physics"
   ]
  },
  {
   "cell_type": "code",
   "execution_count": 57,
   "id": "d5872952",
   "metadata": {},
   "outputs": [],
   "source": [
    "nonslip_x_above = Conditions.nonslip_x(range_x=[0,1], y=1, range_t=None, num_points=1000)\n",
    "nonslip_x_below = Conditions.define_conditions(range_x=[0,1], range_y=0, range_t=None, num_points=1000, target_quantity_dict = {'u':0.0, 'v':0.0, 'p_x': 0.0})\n",
    "inlet = Conditions.inlet_y_uniform(x=0, range_y=[0,1], range_t=None, num_points=1000, u_value=1.0)\n",
    "outlet = Conditions.outlet_y(x=1, range_y=[0,1], range_t=None, num_points=1000, pressure_value=0.0)"
   ]
  },
  {
   "cell_type": "code",
   "execution_count": 58,
   "id": "8e24dbd4",
   "metadata": {},
   "outputs": [],
   "source": [
    "loss = Conditions.loss_calc([nonslip_x_above, nonslip_x_below, inlet, outlet], model0)"
   ]
  },
  {
   "cell_type": "code",
   "execution_count": 59,
   "id": "6f6a03aa",
   "metadata": {},
   "outputs": [
    {
     "name": "stdout",
     "output_type": "stream",
     "text": [
      "tensor(0.2336, grad_fn=<AddBackward0>)\n"
     ]
    }
   ],
   "source": [
    "print(loss)"
   ]
  }
 ],
 "metadata": {
  "kernelspec": {
   "display_name": "Python 3",
   "language": "python",
   "name": "python3"
  },
  "language_info": {
   "codemirror_mode": {
    "name": "ipython",
    "version": 3
   },
   "file_extension": ".py",
   "mimetype": "text/x-python",
   "name": "python",
   "nbconvert_exporter": "python",
   "pygments_lexer": "ipython3",
   "version": "3.11.9"
  }
 },
 "nbformat": 4,
 "nbformat_minor": 5
}
