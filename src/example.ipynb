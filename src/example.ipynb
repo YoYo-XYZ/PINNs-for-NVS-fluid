{
 "cells": [
  {
   "cell_type": "code",
   "execution_count": 1,
   "id": "d0bd02cf",
   "metadata": {},
   "outputs": [],
   "source": [
    "from Network import PINN\n",
    "from Physics import *"
   ]
  },
  {
   "cell_type": "code",
   "execution_count": 2,
   "id": "ab776b5b",
   "metadata": {},
   "outputs": [],
   "source": [
    "model0 = PINN(width=20, length = 8, is_steady=True)"
   ]
  },
  {
   "cell_type": "markdown",
   "id": "c1183a7b",
   "metadata": {},
   "source": [
    "## Define Physics"
   ]
  },
  {
   "cell_type": "code",
   "execution_count": null,
   "id": "d5872952",
   "metadata": {},
   "outputs": [],
   "source": [
    "cond1 = Conditions.define_conditions(range_x=[0,1], range_y=1, range_t=None, num_points=1000, is_steady=True, target_quantity_dict = {'u':0.0, 'v':0.0, 'p_y': 0.0})\n"
   ]
  }
 ],
 "metadata": {
  "kernelspec": {
   "display_name": "Python 3",
   "language": "python",
   "name": "python3"
  },
  "language_info": {
   "codemirror_mode": {
    "name": "ipython",
    "version": 3
   },
   "file_extension": ".py",
   "mimetype": "text/x-python",
   "name": "python",
   "nbconvert_exporter": "python",
   "pygments_lexer": "ipython3",
   "version": "3.11.9"
  }
 },
 "nbformat": 4,
 "nbformat_minor": 5
}
